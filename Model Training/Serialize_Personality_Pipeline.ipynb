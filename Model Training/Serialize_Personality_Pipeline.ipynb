{
  "cells": [
    {
      "cell_type": "markdown",
      "id": "a7f74d4f",
      "metadata": {
        "language": "markdown"
      },
      "source": [
        "# Personality Prediction: Full Pipeline Serialization\n",
        "\n",
        "This notebook builds and serializes the full pipeline (preprocessing + trained model) for deployment or inference, using the same logic as the main model notebook."
      ]
    },
    {
      "cell_type": "code",
      "execution_count": 1,
      "id": "c58725e4",
      "metadata": {
        "language": "python"
      },
      "outputs": [],
      "source": [
        "# Import required libraries\n",
        "import pandas as pd\n",
        "import numpy as np\n",
        "import joblib\n",
        "from sklearn.pipeline import Pipeline\n",
        "from sklearn.compose import ColumnTransformer\n",
        "from sklearn.preprocessing import StandardScaler, OneHotEncoder\n",
        "from sklearn.impute import SimpleImputer\n",
        "from sklearn.ensemble import RandomForestClassifier"
      ]
    },
    {
      "cell_type": "markdown",
      "id": "3309cd8e",
      "metadata": {
        "language": "markdown"
      },
      "source": [
        "## Load Data\n",
        "\n",
        "We use the same data and features as in the main notebook."
      ]
    },
    {
      "cell_type": "code",
      "execution_count": 2,
      "id": "55cf2384",
      "metadata": {
        "language": "python"
      },
      "outputs": [],
      "source": [
        "train_df = pd.read_csv('train.csv')\n",
        "\n",
        "# Use the same feature extraction logic as the main notebook\n",
        "numerical_features = train_df.select_dtypes(include=['int64', 'float64']).columns.tolist()\n",
        "if 'id' in numerical_features: numerical_features.remove('id')\n",
        "if 'Personality' in numerical_features: numerical_features.remove('Personality')\n",
        "\n",
        "categorical_features = train_df.select_dtypes(include=['object']).columns.tolist()\n",
        "if 'Personality' in categorical_features: categorical_features.remove('Personality')\n",
        "\n",
        "X = train_df[numerical_features + categorical_features]\n",
        "y = train_df['Personality']"
      ]
    },
    {
      "cell_type": "markdown",
      "id": "c4f84ae5",
      "metadata": {
        "language": "markdown"
      },
      "source": [
        "## Build Preprocessing and Model Pipeline"
      ]
    },
    {
      "cell_type": "code",
      "execution_count": 3,
      "id": "ca05b439",
      "metadata": {
        "language": "python"
      },
      "outputs": [],
      "source": [
        "numeric_transformer = Pipeline(steps=[\n",
        "    ('imputer', SimpleImputer(strategy='median')),\n",
        "    ('scaler', StandardScaler())\n",
        "])\n",
        "\n",
        "categorical_transformer = Pipeline(steps=[\n",
        "    ('imputer', SimpleImputer(strategy='constant', fill_value='missing')),\n",
        "    ('onehot', OneHotEncoder(drop='first', sparse_output=False, handle_unknown='ignore'))\n",
        "])\n",
        "\n",
        "preprocessor = ColumnTransformer(\n",
        "    transformers=[\n",
        "        ('num', numeric_transformer, numerical_features),\n",
        "        ('cat', categorical_transformer, categorical_features)\n",
        "    ]\n",
        ")\n",
        "\n",
        "# If you have a tuned model, load it here. Otherwise, fit a new one.\n",
        "rf_model = RandomForestClassifier(n_estimators=100, random_state=42)\n",
        "\n",
        "full_pipeline = Pipeline([\n",
        "    ('preprocessor', preprocessor),\n",
        "    ('classifier', rf_model)\n",
        "])"
      ]
    },
    {
      "cell_type": "markdown",
      "id": "46ac5e5b",
      "metadata": {
        "language": "markdown"
      },
      "source": [
        "## Train and Serialize the Pipeline"
      ]
    },
    {
      "cell_type": "code",
      "execution_count": 4,
      "id": "cad3abbc",
      "metadata": {
        "language": "python"
      },
      "outputs": [
        {
          "name": "stdout",
          "output_type": "stream",
          "text": [
            "Pipeline has been saved to full_personality_prediction_pipeline.pkl\n"
          ]
        }
      ],
      "source": [
        "full_pipeline.fit(X, y)\n",
        "\n",
        "pipeline_filename = 'full_personality_prediction_pipeline.pkl'\n",
        "joblib.dump(full_pipeline, pipeline_filename)\n",
        "print(f\"Pipeline has been saved to {pipeline_filename}\")"
      ]
    },
    {
      "cell_type": "markdown",
      "id": "255d95d1",
      "metadata": {
        "language": "markdown"
      },
      "source": [
        "## Load and Use the Saved Pipeline"
      ]
    },
    {
      "cell_type": "code",
      "execution_count": 5,
      "id": "d35bcc2a",
      "metadata": {
        "language": "python"
      },
      "outputs": [
        {
          "name": "stdout",
          "output_type": "stream",
          "text": [
            "Example predictions: ['Extrovert']\n"
          ]
        }
      ],
      "source": [
        "loaded_pipeline = joblib.load('full_personality_prediction_pipeline.pkl')\n",
        "\n",
        "# Example: Predict on new data (replace with your actual data structure)\n",
        "example_data = pd.DataFrame({\n",
        "    col: [X[col].iloc[0]] for col in X.columns\n",
        "})\n",
        "\n",
        "predictions = loaded_pipeline.predict(example_data)\n",
        "print(\"Example predictions:\", predictions)"
      ]
    }
  ],
  "metadata": {
    "kernelspec": {
      "display_name": ".venv",
      "language": "python",
      "name": "python3"
    },
    "language_info": {
      "codemirror_mode": {
        "name": "ipython",
        "version": 3
      },
      "file_extension": ".py",
      "mimetype": "text/x-python",
      "name": "python",
      "nbconvert_exporter": "python",
      "pygments_lexer": "ipython3",
      "version": "3.13.5"
    }
  },
  "nbformat": 4,
  "nbformat_minor": 5
}
